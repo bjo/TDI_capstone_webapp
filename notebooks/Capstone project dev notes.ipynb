{
 "cells": [
  {
   "cell_type": "code",
   "execution_count": 23,
   "metadata": {},
   "outputs": [],
   "source": [
    "import os\n",
    "from dotenv import load_dotenv\n",
    "import pandas as pd\n",
    "import scipy.stats\n",
    "import matplotlib.pyplot as plt\n",
    "from sqlalchemy import create_engine, text"
   ]
  },
  {
   "cell_type": "code",
   "execution_count": 20,
   "metadata": {},
   "outputs": [],
   "source": [
    "load_dotenv()\n",
    "URI = os.getenv('URI_DB')\n",
    "data_dir = os.getenv('DATA_DIR')\n",
    "\n",
    "variable_desc = {\n",
    "    'FRUIT_inv' : 'Lack of fruit consumption',\n",
    "    'PNEUMO' : 'Lack of pneumonia vaccination',\n",
    "    'FLUSHOT' : 'Lack of flu vaccination',\n",
    "    'VEGE' : 'Lack of vegetable consumption',\n",
    "    'RFBING' : 'Whether a binge drinker',\n",
    "    'SMOKER' : 'Smoker category',\n",
    "    'HTCARE' : 'Lack of healthcare coverage',\n",
    "    'SLEPTIM' : 'Sleep amount',\n",
    "    'RFDRHV' : 'Whether a heavy drinker',\n",
    "    'RFSMOK' : 'Whether a current smoker',\n",
    "    'TOTINDA' : 'Lack of exercise',\n",
    "    'FRUIT' : 'Lack of fruit consumption'\n",
    "}"
   ]
  },
  {
   "cell_type": "markdown",
   "metadata": {},
   "source": [
    "## Set up virtual environment"
   ]
  },
  {
   "cell_type": "markdown",
   "metadata": {},
   "source": [
    "`requirements.txt` includes the packages used for this app and their corresponding versions"
   ]
  },
  {
   "cell_type": "markdown",
   "metadata": {},
   "source": [
    "`runtime.txt` has been set up to match the local python version"
   ]
  },
  {
   "cell_type": "markdown",
   "metadata": {},
   "source": [
    "In windows, create and activate virtual environment py running:\n",
    "\n",
    "`python -m venv venv`\n",
    "\n",
    "`.\\venv\\Scripts\\activate`\n",
    "\n",
    "Then, install the required packages and check the list:\n",
    "\n",
    "`pip install -r requirements.txt`\n",
    "\n",
    "`pip freeze`"
   ]
  },
  {
   "cell_type": "markdown",
   "metadata": {},
   "source": [
    "## Set up Procfile\n",
    "\n",
    "I set up two Procfiles, one for the Heroku deployment and one for local:\n",
    "\n",
    "`Procfile` and `Procfile.windows`\n",
    "\n",
    "Heroku deployment:\n",
    "\n",
    "`web: gunicorn --pythonpath flask_app app:app`\n",
    "\n",
    "local deployment:\n",
    "\n",
    "`web: python flask_app/app.py runserver 127.0.0.1:5111`\n",
    "\n",
    "and run command:\n",
    "\n",
    "`heroku local web -f Procfile.windows`"
   ]
  },
  {
   "cell_type": "markdown",
   "metadata": {},
   "source": [
    "## Logic for adding scripts to the main page (Project Menrva dashboard)\n",
    "\n",
    "There are many ways of doing this, but since the dataset is very large, I'm going to "
   ]
  },
  {
   "cell_type": "markdown",
   "metadata": {},
   "source": [
    "### Generate visualizations for the dashboard as json files (stored in /data directory)\n",
    "\n",
    "These are altair interactive visualizations. Refer to the data notebook for more details on how these were generated. \n",
    "\n",
    "The generated Altair visualizations are saved as json format in `flask_app/data/*/*.json`"
   ]
  },
  {
   "cell_type": "markdown",
   "metadata": {},
   "source": [
    "### Integrate them into the dashboard\n",
    "\n",
    "Integration is achieved by the following javascript:\n",
    "\n",
    "`<script>\n",
    "    var spec = {{ the_chart | safe }};\n",
    "    vegaEmbed(\"#vis\", spec);\n",
    "</script>`"
   ]
  },
  {
   "cell_type": "markdown",
   "metadata": {},
   "source": [
    "## Integration of DB instances to the project\n",
    "\n",
    "I learn about creating/managing/deploying DB instances to my project in this section."
   ]
  },
  {
   "cell_type": "markdown",
   "metadata": {},
   "source": [
    "### readme file from https://github.com/bjo/altair-flask-demo/\n",
    "\n",
    "### SQL database\n",
    "The application uses an SQL database and makes queries against it to obtain the wells to visualize. Two options are presented: SQLite for only local deployment or PostgreSQL for either local or deployment to Heroku. Instructions for both are found below. Note, you can skip the last step of each and jump to deployment by running `make all`, as running `make all` takes care of creating the database once `.env` has been configured properly. By default, `create-db` truncates the records in the database to comply with Heroku's free tier limit. However, you can prevent truncation by setting the environmental variable `TRUNCATE` to an empty string. E.g., `make TRUNCATE=\"\" all`.\n",
    "\n",
    "#### SQLite\n",
    "1. Create your own `.env`: `cp .env.template .env`\n",
    "1. Assign `URI_DB` to `sqlite:///data/wells.db`\n",
    "1. Run `make create-db` or `make TRUNCATE=\"\" create-db` (no truncation)\n",
    "\n",
    "#### Heroku managed PostgreSQL\n",
    "1. Create a [Heroku](https://heroku.com) account\n",
    "1. Install the [Heroku CLI](https://devcenter.heroku.com/articles/heroku-cli#download-and-install)\n",
    "1. Create your own `.env`: `cp .env.template .env`\n",
    "1. Create a Heroku app: `heroku create`\n",
    "1. In your `.env`, set `APP_NAME` to your application's name form the previous step\n",
    "1. Run `make create-db`\n",
    "\n",
    "### Other databases\n",
    "You can use a database that is not managed by Heroku. For example, your own Postgres server you have setup yourself or a fully managed one by a different provider. If you want to go the latter route, consider [ElephantSQL](https://www.elephantsql.com). The free tier lets you have a database up to 20 MB. Whatever you decide, the instructions are similiar, run `make create-db`. However, before you run `make create-db`, make sure you add `export OTHER_DB=true` to your `.env`.\n",
    "\n",
    "Two things to consider:\n",
    "\n",
    "1. If you are deploying to Heroku, make sure you set `APP_NAME` as `make create-db` will set the `URI_DB` environmental variable on Heroku. If you don't set `APP_NAME`, you will need to make sure you set `URI_DB` on Heroku yourself.\n",
    "\n",
    "1. If you are using a different RDBMS, e.g., MySQL, you'll need to make sure you have the appropriate Python driver installed in your virtual environment."
   ]
  },
  {
   "cell_type": "markdown",
   "metadata": {},
   "source": [
    "### Use of Postgres managed instance at ElephantSQL (free tier, up to 20MB)\n",
    "\n",
    "Set up an account at:\n",
    "\n",
    "https://customer.elephantsql.com/instance\n",
    "\n",
    "and start a new Postgres instance - project_menrva\n",
    "\n",
    "`bin/init_db` file - particularly necessary for setting up DB on heroku"
   ]
  },
  {
   "cell_type": "code",
   "execution_count": null,
   "metadata": {},
   "outputs": [],
   "source": [
    "%%bash\n",
    "#!/bin/bash\n",
    "#\n",
    "# Create a Heroku managed Postgres database if it doesn't exist or clear/reset\n",
    "# an existing one. If URI_DB is an SQLite database, remove the file if it\n",
    "# exists. If you are not using either SQLite or Heroku managed Postgres\n",
    "# database, make sure to either unset APP_NAME or set OTHER_DB to true.\n",
    "\n",
    "check_db() {\n",
    "    echo \"Checking if database already exists\"\n",
    "    heroku addons --app $APP_NAME | grep -q heroku-postgresql\n",
    "}\n",
    "\n",
    "add_db() {\n",
    "    heroku addons:create --app $APP_NAME heroku-postgresql:hobby-dev\n",
    "\n",
    "    echo \"Setting URI_DB in .env\"\n",
    "    URI_DB=$(heroku config:get DATABASE_URL --app $APP_NAME | sed \"s/postgres/postgresql/g\")\n",
    "    sed -i \"/^#/!s\\URI_DB=.*\\URI_DB=$URI_DB\\g\" .env\n",
    "    grep -q \"URI_DB=$URI_DB\" .env || \\\n",
    "    echo \"Could not replace URI_DB in .env.\" \\\n",
    "    \"You will need to manually set this value in your .env.\"\n",
    "\n",
    "    heroku config:set URI_DB=$URI_DB\n",
    "}\n",
    "\n",
    "reset_db() {\n",
    "    DB_HEROKU=$(heroku pg:info --app $APP_NAME | grep \"postgresql.+\")\n",
    "    heroku pg:reset $DB_HEROKU --confirm $APP_NAME\n",
    "}\n",
    "\n",
    "set_config() {\n",
    "    if [[ -n $APP_NAME ]]; then\n",
    "    echo \"Setting URI_DB environmental variable on Heroku\"\n",
    "    URI_DB=$(echo $URI_DB | sed \"s/postgres:/postgresql:/g\")\n",
    "    heroku --app $APP_NAME config:set URI_DB=$URI_DB\n",
    "    fi\n",
    "}\n",
    "\n",
    "source .env\n",
    "\n",
    "if [[ ${URI_DB::6} == \"sqlite\" ]]; then\n",
    "    rm -f data/wells.db\n",
    "elif [[ $OTHER_DB == true ]]; then\n",
    "    echo \"Not using SQLite or Heroku managed Postgres database\"\n",
    "    set_config\n",
    "else\n",
    "    (check_db && reset_db) || add_db\n",
    "fi\n"
   ]
  },
  {
   "cell_type": "markdown",
   "metadata": {},
   "source": [
    "## Creation of DB tables that match our visualization\n",
    "\n",
    "This DB will store statistical information about the tested hypotheses, and serve them up with user query"
   ]
  },
  {
   "cell_type": "code",
   "execution_count": 25,
   "metadata": {},
   "outputs": [
    {
     "data": {
      "text/html": [
       "<div>\n",
       "<style scoped>\n",
       "    .dataframe tbody tr th:only-of-type {\n",
       "        vertical-align: middle;\n",
       "    }\n",
       "\n",
       "    .dataframe tbody tr th {\n",
       "        vertical-align: top;\n",
       "    }\n",
       "\n",
       "    .dataframe thead th {\n",
       "        text-align: right;\n",
       "    }\n",
       "</style>\n",
       "<table border=\"1\" class=\"dataframe\">\n",
       "  <thead>\n",
       "    <tr style=\"text-align: right;\">\n",
       "      <th></th>\n",
       "      <th>beta</th>\n",
       "      <th>absTstat</th>\n",
       "      <th>covVar</th>\n",
       "      <th>depVar</th>\n",
       "      <th>pValue</th>\n",
       "      <th>significant</th>\n",
       "    </tr>\n",
       "  </thead>\n",
       "  <tbody>\n",
       "    <tr>\n",
       "      <th>0</th>\n",
       "      <td>0.186646</td>\n",
       "      <td>111.950901</td>\n",
       "      <td>_AGEG5YR</td>\n",
       "      <td>FRUIT_inv</td>\n",
       "      <td>0.000000e+00</td>\n",
       "      <td>True</td>\n",
       "    </tr>\n",
       "    <tr>\n",
       "      <th>1</th>\n",
       "      <td>0.121296</td>\n",
       "      <td>96.765607</td>\n",
       "      <td>_SEX</td>\n",
       "      <td>FRUIT_inv</td>\n",
       "      <td>0.000000e+00</td>\n",
       "      <td>True</td>\n",
       "    </tr>\n",
       "    <tr>\n",
       "      <th>2</th>\n",
       "      <td>0.114761</td>\n",
       "      <td>80.887249</td>\n",
       "      <td>_EDUCAG</td>\n",
       "      <td>FRUIT_inv</td>\n",
       "      <td>0.000000e+00</td>\n",
       "      <td>True</td>\n",
       "    </tr>\n",
       "    <tr>\n",
       "      <th>3</th>\n",
       "      <td>-0.045411</td>\n",
       "      <td>36.284861</td>\n",
       "      <td>year</td>\n",
       "      <td>FRUIT_inv</td>\n",
       "      <td>4.346002e-286</td>\n",
       "      <td>True</td>\n",
       "    </tr>\n",
       "    <tr>\n",
       "      <th>4</th>\n",
       "      <td>0.049747</td>\n",
       "      <td>32.475410</td>\n",
       "      <td>_INCOMG</td>\n",
       "      <td>FRUIT_inv</td>\n",
       "      <td>3.676911e-229</td>\n",
       "      <td>True</td>\n",
       "    </tr>\n",
       "  </tbody>\n",
       "</table>\n",
       "</div>"
      ],
      "text/plain": [
       "       beta    absTstat    covVar     depVar         pValue  significant\n",
       "0  0.186646  111.950901  _AGEG5YR  FRUIT_inv   0.000000e+00         True\n",
       "1  0.121296   96.765607      _SEX  FRUIT_inv   0.000000e+00         True\n",
       "2  0.114761   80.887249   _EDUCAG  FRUIT_inv   0.000000e+00         True\n",
       "3 -0.045411   36.284861      year  FRUIT_inv  4.346002e-286         True\n",
       "4  0.049747   32.475410   _INCOMG  FRUIT_inv  3.676911e-229         True"
      ]
     },
     "execution_count": 25,
     "metadata": {},
     "output_type": "execute_result"
    }
   ],
   "source": [
    "n_samp = 100000\n",
    "COVDB_data = []\n",
    "for dep_variable in variable_desc:\n",
    "    sub_df = pd.read_csv(data_dir + 'COVDB/' + dep_variable + '_' + str(n_samp) + '_COVDB.csv')\n",
    "    sub_df.columns = ['beta', 'absTstat', 'covVar']\n",
    "    sub_df['depVar'] = dep_variable\n",
    "    COVDB_data.append(sub_df)\n",
    "    \n",
    "COVDB_df = pd.concat(COVDB_data, axis = 0)\n",
    "COVDB_df['pValue'] = scipy.stats.norm.sf(COVDB_df['absTstat'])*2*COVDB_df.shape[0]\n",
    "COVDB_df['significant'] = COVDB_df['pValue'] < 0.01\n",
    "COVDB_df.head()"
   ]
  },
  {
   "cell_type": "code",
   "execution_count": 14,
   "metadata": {},
   "outputs": [
    {
     "data": {
      "text/plain": [
       "(array([73., 36., 25.,  7.,  5.,  2.,  2.,  3.,  1.,  1.]),\n",
       " array([1.00428612e-01, 2.88405269e+01, 5.75806252e+01, 8.63207235e+01,\n",
       "        1.15060822e+02, 1.43800920e+02, 1.72541018e+02, 2.01281117e+02,\n",
       "        2.30021215e+02, 2.58761313e+02, 2.87501411e+02]),\n",
       " <BarContainer object of 10 artists>)"
      ]
     },
     "execution_count": 14,
     "metadata": {},
     "output_type": "execute_result"
    },
    {
     "data": {
      "image/png": "[encoded data removed]",
      "text/plain": [
       "<Figure size 432x288 with 1 Axes>"
      ]
     },
     "metadata": {
      "needs_background": "light"
     },
     "output_type": "display_data"
    }
   ],
   "source": [
    "import matplotlib.pyplot as plt\n",
    "plt.hist(COVDB_df['absTstat'])"
   ]
  },
  {
   "cell_type": "code",
   "execution_count": 57,
   "metadata": {},
   "outputs": [
    {
     "data": {
      "text/plain": [
       "'COVDB'"
      ]
     },
     "execution_count": 57,
     "metadata": {},
     "output_type": "execute_result"
    }
   ],
   "source": [
    "def create_cov_table(engine, n_samp):\n",
    "    DB_data = []\n",
    "    table_name = 'COVDB'\n",
    "    for dep_variable in variable_desc:\n",
    "        sub_df = pd.read_csv(data_dir + table_name + '/' + dep_variable + '_' + str(n_samp) + '_' + table_name + '.csv')\n",
    "        sub_df.columns = ['beta', 'absTstat', 'covVar']\n",
    "        sub_df['depVar'] = dep_variable\n",
    "        DB_data.append(sub_df)\n",
    "\n",
    "    DB_df = pd.concat(DB_data, axis=0)\n",
    "    scaled_pvals = scipy.stats.norm.sf(DB_df['absTstat']) * 2 * DB_df.shape[0]\n",
    "    DB_df['pValue'] = [min(pval, 1) for pval in scaled_pvals]\n",
    "    DB_df['significant'] = DB_df['pValue'] < 0.01\n",
    "    DB_df.to_sql(table_name, engine, if_exists='replace')\n",
    "    return table_name\n",
    "\n",
    "create_cov_table(engine, n_samp)"
   ]
  },
  {
   "cell_type": "code",
   "execution_count": 30,
   "metadata": {},
   "outputs": [
    {
     "data": {
      "text/plain": [
       "'GEODB'"
      ]
     },
     "execution_count": 30,
     "metadata": {},
     "output_type": "execute_result"
    }
   ],
   "source": [
    "def create_geo_table(engine, n_samp):\n",
    "    DB_data = []\n",
    "    table_name = 'GEODB'\n",
    "    for dep_variable in variable_desc:\n",
    "        sub_df = pd.read_csv(data_dir + table_name + '/' + dep_variable + '_' + str(n_samp) + '_' + table_name + '.csv')\n",
    "        first_year = sub_df.columns[2].split('_')[-1]\n",
    "        last_year = sub_df.columns[4].split('_')[-1]\n",
    "        sub_df.columns = ['stateId', 'stateAbbr', 'depVarFirst', 'residFirst', 'depVarLast', 'residLast', 'depVarChng', 'residChng']\n",
    "        sub_df['depVar'] = dep_variable\n",
    "        sub_df['firstYear'] = int(first_year)\n",
    "        sub_df['lastYear'] = int(last_year)\n",
    "        DB_data.append(sub_df)\n",
    "\n",
    "    DB_df = pd.concat(DB_data, axis=0)\n",
    "    DB_df.to_sql(table_name, engine, if_exists='replace')\n",
    "    return table_name\n",
    "\n",
    "create_geo_table(engine, n_samp)"
   ]
  },
  {
   "cell_type": "code",
   "execution_count": 56,
   "metadata": {},
   "outputs": [
    {
     "data": {
      "text/plain": [
       "'CORRDB'"
      ]
     },
     "execution_count": 56,
     "metadata": {},
     "output_type": "execute_result"
    }
   ],
   "source": [
    "def create_corr_table(engine, n_samp):\n",
    "    DB_data = []\n",
    "    table_name = 'CORRDB'\n",
    "    for dep_variable in variable_desc:\n",
    "        sub_df = pd.read_csv(data_dir + table_name + '/' + dep_variable + '_' + str(n_samp) + '_' + table_name + '.csv')\n",
    "        sub_df.columns = ['beta', 'absTstat', 'pValue', 'indepVar']\n",
    "        sub_df['depVar'] = dep_variable\n",
    "        DB_data.append(sub_df)\n",
    "\n",
    "    DB_df = pd.concat(DB_data, axis=0)\n",
    "    scaled_pvals = DB_df['pValue']*DB_df.shape[0]\n",
    "    DB_df['pValue'] = [min(pval, 1) for pval in scaled_pvals]\n",
    "    DB_df['significant'] = DB_df['pValue'] < 0.01\n",
    "    DB_df.to_sql(table_name, engine, if_exists='replace')\n",
    "    return table_name\n",
    "\n",
    "create_corr_table(engine, n_samp)"
   ]
  },
  {
   "cell_type": "code",
   "execution_count": 58,
   "metadata": {},
   "outputs": [
    {
     "data": {
      "text/plain": [
       "True"
      ]
     },
     "execution_count": 58,
     "metadata": {},
     "output_type": "execute_result"
    }
   ],
   "source": [
    "os.path.exists(data_dir + table_name + '/' + dep_variable + '_' + str(n_samp) + '_' + table_name + '.csv')"
   ]
  },
  {
   "cell_type": "code",
   "execution_count": 59,
   "metadata": {},
   "outputs": [
    {
     "data": {
      "text/plain": [
       "'TSDB'"
      ]
     },
     "execution_count": 59,
     "metadata": {},
     "output_type": "execute_result"
    }
   ],
   "source": [
    "def create_ts_table(engine, n_samp):\n",
    "    DB_data = []\n",
    "    table_name = 'TSDB'\n",
    "    for dep_variable in variable_desc:\n",
    "        if os.path.exists(data_dir + table_name + '/' + dep_variable + '_' + str(n_samp) + '_' + table_name + '.csv'):\n",
    "            sub_df = pd.read_csv(data_dir + table_name + '/' + dep_variable + '_' + str(n_samp) + '_' + table_name + '.csv')\n",
    "            sub_df['depVar'] = dep_variable\n",
    "            DB_data.append(sub_df)\n",
    "\n",
    "    DB_df = pd.concat(DB_data, axis=0)\n",
    "    DB_df.to_sql(table_name, engine, if_exists='replace')\n",
    "    return table_name\n",
    "\n",
    "create_ts_table(engine, n_samp)"
   ]
  },
  {
   "cell_type": "markdown",
   "metadata": {},
   "source": [
    "## Loading DB data to serve up to the dashboard"
   ]
  },
  {
   "cell_type": "markdown",
   "metadata": {},
   "source": [
    "Now, the necessary DB has been inserted into the ElephantSQL DB instance."
   ]
  },
  {
   "cell_type": "code",
   "execution_count": 17,
   "metadata": {},
   "outputs": [
    {
     "data": {
      "text/plain": [
       "[('_RFHLTH', 197.75205651138057, 0.0, True),\n",
       " ('_EDUCAG', 153.39019725589276, 0.0, True),\n",
       " ('_INCOMG', 99.1044364438562, 0.0, True),\n",
       " ('_AGEG5YR', 75.89394540785176, 0.0, True),\n",
       " ('_BMICAT', 67.53653602803799, 0.0, True),\n",
       " ('_SEX', 51.31120174533276, 0.0, True),\n",
       " ('_RACE', 30.835998510607848, 1.3378035504349697e-206, True),\n",
       " ('_CHLDCNT', 18.51642165094018, 2.3594807649461543e-74, True),\n",
       " ('_ASTHM', 16.17866010830352, 1.1056128450064012e-56, True),\n",
       " ('_RFHYPE', 14.59099123736979, 4.967853777670366e-46, True),\n",
       " ('_HISPANC', 4.781855586574146, 0.0002692108818294784, True),\n",
       " ('year', 4.234446185677199, 0.003551292432561642, True),\n",
       " ('_RFCHOL', 3.9591567578248696, 0.011658303042412301, False)]"
      ]
     },
     "execution_count": 17,
     "metadata": {},
     "output_type": "execute_result"
    }
   ],
   "source": [
    "db_name = 'COVDB'\n",
    "dep_variable = 'TOTINDA'\n",
    "# Test an example query\n",
    "query = text(\n",
    "        f\"\"\"\n",
    "        SELECT \"covVar\", \"absTstat\", \"pValue\", \"significant\"\n",
    "        FROM \"{db_name}\"\n",
    "        WHERE \"depVar\" = '{dep_variable}';\n",
    "        \"\"\".format(db_name, dep_variable)\n",
    "    )\n",
    "\n",
    "with engine.connect() as conn:\n",
    "    results = (\n",
    "        conn\n",
    "        .execute(query)\n",
    "        .fetchall()\n",
    "    )\n",
    "    \n",
    "results"
   ]
  },
  {
   "cell_type": "markdown",
   "metadata": {},
   "source": [
    "### Creating DB queries that respond to user request, and integrating them into the dashboard"
   ]
  },
  {
   "cell_type": "code",
   "execution_count": 38,
   "metadata": {},
   "outputs": [],
   "source": [
    "db_name = 'GEODB'\n",
    "var = 'TOTINDA'\n",
    "query1 = text(\n",
    "    f\"\"\"\n",
    "        SELECT \"stateAbbr\", \"residChng\", \"depVarFirst\", \"firstYear\", \"depVarLast\", \"lastYear\"\n",
    "        FROM \"{db_name}\"\n",
    "        WHERE \"depVar\" = '{var}'\n",
    "        ORDER BY \"depVarLast\" DESC\n",
    "        LIMIT 5;\n",
    "    \"\"\".format(db_name, var)\n",
    ")\n",
    "query2 = text(\n",
    "    f\"\"\"\n",
    "        SELECT \"stateAbbr\", \"residChng\", \"depVarFirst\", \"firstYear\", \"depVarLast\", \"lastYear\"\n",
    "        FROM \"{db_name}\"\n",
    "        WHERE \"depVar\" = '{var}'\n",
    "        ORDER BY \"depVarLast\" ASC\n",
    "        LIMIT 5;\n",
    "    \"\"\".format(db_name, var)\n",
    ")\n",
    "with db_engine.connect() as conn:\n",
    "    results = (\n",
    "        conn\n",
    "        .execute(query1)\n",
    "        .fetchall()\n",
    "    ) + (\n",
    "        conn\n",
    "        .execute(query2)\n",
    "        .fetchall()\n",
    "    )"
   ]
  },
  {
   "cell_type": "code",
   "execution_count": 39,
   "metadata": {},
   "outputs": [
    {
     "data": {
      "text/plain": [
       "[('CO', -0.0179431611950639, 1.2057783018867925, 2000, 1.1670711974110033, 2020),\n",
       " ('DC', -0.0156665858840532, 1.2109617373319546, 2000, 1.168192219679634, 2020),\n",
       " ('HI', -0.0787292389311619, 1.2287800425920292, 2000, 1.1729611384783798, 2020),\n",
       " ('UT', 0.0398726544467379, 1.1772870662460568, 2000, 1.175705794947994, 2020),\n",
       " ('VT', -0.0489089655665335, 1.2235710672736468, 2000, 1.17759900990099, 2020),\n",
       " ('PR', -0.4697519631903127, 1.5835814547001277, 2000, 1.424793388429752, 2020),\n",
       " ('AR', 0.0155911616971072, 1.3041894353369765, 2000, 1.3377742946708464, 2020),\n",
       " ('MS', -0.1541143718141001, 1.3545981772990887, 2000, 1.3304020100502512, 2020),\n",
       " ('KY', -0.2932018444851269, 1.4465531677365335, 2000, 1.326467559217302, 2020),\n",
       " ('OK', -0.112871563064589, 1.3482587064676617, 2000, 1.311216429699842, 2020)]"
      ]
     },
     "execution_count": 39,
     "metadata": {},
     "output_type": "execute_result"
    }
   ],
   "source": [
    "results"
   ]
  },
  {
   "cell_type": "code",
   "execution_count": 42,
   "metadata": {},
   "outputs": [
    {
     "data": {
      "text/plain": [
       "[('aintpi', 2.3424136354140885, 2.965290218609929e-32, True),\n",
       " ('anecpi', 1.3113032626536734, 5.000616317578353e-31, True),\n",
       " ('afcgapi', 1.884555056927564, 1.1025600324609293e-29, True),\n",
       " ('cbeer', 0.0031224483846474, 1.9675041069368788e-29, True),\n",
       " ('aincstat3', 0.2958835858680658, 8.898112324439898e-29, True),\n",
       " ('asanpi', 3.2727994852800277, 1.3857356094079066e-28, True),\n",
       " ('ainctot2', 0.1835003291879938, 7.888069976807385e-28, True),\n",
       " ('acorrpi', 3.177211817951861, 1.0844409673741213e-27, True),\n",
       " ('cwine', 0.0007137603986744, 6.263853137001089e-27, True),\n",
       " ('apolpi', 1.70134870651998, 6.574240737425774e-27, True)]"
      ]
     },
     "execution_count": 42,
     "metadata": {},
     "output_type": "execute_result"
    }
   ],
   "source": [
    "db_name = 'CORRDB'\n",
    "query = text(\n",
    "    f\"\"\"\n",
    "        SELECT \"indepVar\", \"beta\", \"pValue\", \"significant\"\n",
    "        FROM \"{db_name}\"\n",
    "        WHERE \"depVar\" = '{var}'\n",
    "        ORDER BY \"pValue\"\n",
    "        LIMIT 10;\n",
    "    \"\"\".format(db_name, var)\n",
    ")\n",
    "with db_engine.connect() as conn:\n",
    "    results = (\n",
    "        conn\n",
    "            .execute(query)\n",
    "            .fetchall()\n",
    "    )\n",
    "    \n",
    "results"
   ]
  },
  {
   "cell_type": "code",
   "execution_count": 55,
   "metadata": {},
   "outputs": [
    {
     "data": {
      "text/plain": [
       "'2.965e-32'"
      ]
     },
     "execution_count": 55,
     "metadata": {},
     "output_type": "execute_result"
    }
   ],
   "source": [
    "\"{0:.4g}\".format(results[0][2])"
   ]
  },
  {
   "cell_type": "code",
   "execution_count": null,
   "metadata": {},
   "outputs": [],
   "source": []
  }
 ],
 "metadata": {
  "kernelspec": {
   "display_name": "Python 3 (ipykernel)",
   "language": "python",
   "name": "python3"
  },
  "language_info": {
   "codemirror_mode": {
    "name": "ipython",
    "version": 3
   },
   "file_extension": ".py",
   "mimetype": "text/x-python",
   "name": "python",
   "nbconvert_exporter": "python",
   "pygments_lexer": "ipython3",
   "version": "3.8.12"
  }
 },
 "nbformat": 4,
 "nbformat_minor": 4
}
